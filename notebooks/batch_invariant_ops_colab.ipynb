{
  "cells": [
    {
      "cell_type": "markdown",
      "metadata": {
        "id": "view-in-github",
        "colab_type": "text"
      },
      "source": [
        "<a href=\"https://colab.research.google.com/github/cghart/batch_invariant_ops/blob/main/notebooks/batch_invariant_ops_colab.ipynb\" target=\"_parent\"><img src=\"https://colab.research.google.com/assets/colab-badge.svg\" alt=\"Open In Colab\"/></a>"
      ]
    },
    {
      "cell_type": "markdown",
      "metadata": {
        "id": "title"
      },
      "source": [
        "# Batch Invariant Operations - Google Colab Demo\n",
        "\n",
        "This notebook demonstrates the batch-invariant-ops library, which provides deterministic GPU operations that produce identical results regardless of batch size.\n",
        "\n",
        "**Important**: Make sure you're using a GPU runtime:\n",
        "- Go to Runtime → Change runtime type → Hardware accelerator: GPU\n",
        "- Recommended: T4 GPU (free) or better (Colab Pro)"
      ]
    },
    {
      "cell_type": "markdown",
      "metadata": {
        "id": "setup"
      },
      "source": [
        "## 🚀 Setup & GPU Verification"
      ]
    },
    {
      "cell_type": "code",
      "execution_count": 1,
      "metadata": {
        "id": "gpu_check",
        "colab": {
          "base_uri": "https://localhost:8080/"
        },
        "outputId": "58e27c8e-1e0f-4868-fa5a-8b7a35d364db"
      },
      "outputs": [
        {
          "output_type": "stream",
          "name": "stdout",
          "text": [
            "🎯 GPU Information:\n",
            "Sun Sep 21 23:21:32 2025       \n",
            "+-----------------------------------------------------------------------------------------+\n",
            "| NVIDIA-SMI 550.54.15              Driver Version: 550.54.15      CUDA Version: 12.4     |\n",
            "|-----------------------------------------+------------------------+----------------------+\n",
            "| GPU  Name                 Persistence-M | Bus-Id          Disp.A | Volatile Uncorr. ECC |\n",
            "| Fan  Temp   Perf          Pwr:Usage/Cap |           Memory-Usage | GPU-Util  Compute M. |\n",
            "|                                         |                        |               MIG M. |\n",
            "|=========================================+========================+======================|\n",
            "|   0  Tesla T4                       Off |   00000000:00:04.0 Off |                    0 |\n",
            "| N/A   53C    P8             10W /   70W |       0MiB /  15360MiB |      0%      Default |\n",
            "|                                         |                        |                  N/A |\n",
            "+-----------------------------------------+------------------------+----------------------+\n",
            "                                                                                         \n",
            "+-----------------------------------------------------------------------------------------+\n",
            "| Processes:                                                                              |\n",
            "|  GPU   GI   CI        PID   Type   Process name                              GPU Memory |\n",
            "|        ID   ID                                                               Usage      |\n",
            "|=========================================================================================|\n",
            "|  No running processes found                                                             |\n",
            "+-----------------------------------------------------------------------------------------+\n",
            "\n"
          ]
        }
      ],
      "source": [
        "# Check GPU availability and specifications\n",
        "import subprocess\n",
        "import sys\n",
        "\n",
        "# Check if nvidia-smi is available\n",
        "try:\n",
        "    result = subprocess.run(['nvidia-smi'], capture_output=True, text=True)\n",
        "    print(\"🎯 GPU Information:\")\n",
        "    print(result.stdout)\n",
        "except FileNotFoundError:\n",
        "    print(\"❌ No GPU detected! Please enable GPU runtime:\")\n",
        "    print(\"   Runtime → Change runtime type → Hardware accelerator: GPU\")\n",
        "    sys.exit(1)"
      ]
    },
    {
      "cell_type": "code",
      "execution_count": 2,
      "metadata": {
        "id": "pytorch_check",
        "colab": {
          "base_uri": "https://localhost:8080/"
        },
        "outputId": "8b445ab0-ea18-4d59-9268-908bd0f98d98"
      },
      "outputs": [
        {
          "output_type": "stream",
          "name": "stdout",
          "text": [
            "🐍 Python version: 3.12.11 (main, Jun  4 2025, 08:56:18) [GCC 11.4.0]\n",
            "🔥 PyTorch version: 2.8.0+cu126\n",
            "🚀 CUDA available: True\n",
            "🎮 GPU device: Tesla T4\n",
            "💾 GPU memory: 15.8 GB\n",
            "🔧 CUDA version: 12.6\n",
            "🏗️ CuDNN version: 91002\n"
          ]
        }
      ],
      "source": [
        "# Check PyTorch and CUDA\n",
        "import torch\n",
        "print(f\"🐍 Python version: {sys.version}\")\n",
        "print(f\"🔥 PyTorch version: {torch.__version__}\")\n",
        "print(f\"🚀 CUDA available: {torch.cuda.is_available()}\")\n",
        "\n",
        "if torch.cuda.is_available():\n",
        "    print(f\"🎮 GPU device: {torch.cuda.get_device_name(0)}\")\n",
        "    print(f\"💾 GPU memory: {torch.cuda.get_device_properties(0).total_memory / 1e9:.1f} GB\")\n",
        "    print(f\"🔧 CUDA version: {torch.version.cuda}\")\n",
        "    print(f\"🏗️ CuDNN version: {torch.backends.cudnn.version()}\")\n",
        "else:\n",
        "    print(\"❌ CUDA not available! Please check GPU runtime setting.\")\n",
        "    sys.exit(1)"
      ]
    },
    {
      "cell_type": "markdown",
      "metadata": {
        "id": "install"
      },
      "source": [
        "## 📦 Installation"
      ]
    },
    {
      "cell_type": "code",
      "execution_count": 3,
      "metadata": {
        "id": "clone_repo",
        "colab": {
          "base_uri": "https://localhost:8080/"
        },
        "outputId": "555f346a-a51e-4fec-8052-e24cddf479e3"
      },
      "outputs": [
        {
          "output_type": "stream",
          "name": "stdout",
          "text": [
            "Cloning into 'batch_invariant_ops'...\n",
            "remote: Enumerating objects: 22, done.\u001b[K\n",
            "remote: Counting objects: 100% (22/22), done.\u001b[K\n",
            "remote: Compressing objects: 100% (20/20), done.\u001b[K\n",
            "remote: Total 22 (delta 2), reused 22 (delta 2), pack-reused 0 (from 0)\u001b[K\n",
            "Receiving objects: 100% (22/22), 32.04 KiB | 6.41 MiB/s, done.\n",
            "Resolving deltas: 100% (2/2), done.\n",
            "/content/batch_invariant_ops\n"
          ]
        }
      ],
      "source": [
        "# Clone the repository\n",
        "!git clone https://github.com/cghart/batch_invariant_ops.git\n",
        "%cd batch_invariant_ops"
      ]
    },
    {
      "cell_type": "code",
      "execution_count": 4,
      "metadata": {
        "id": "install_deps",
        "colab": {
          "base_uri": "https://localhost:8080/"
        },
        "outputId": "32fcaa9d-ff28-4de8-cd40-a70ad841036e"
      },
      "outputs": [
        {
          "output_type": "stream",
          "name": "stdout",
          "text": [
            "  Installing build dependencies ... \u001b[?25l\u001b[?25hdone\n",
            "  Checking if build backend supports build_editable ... \u001b[?25l\u001b[?25hdone\n",
            "  Getting requirements to build editable ... \u001b[?25l\u001b[?25hdone\n",
            "  Preparing editable metadata (pyproject.toml) ... \u001b[?25l\u001b[?25hdone\n",
            "  Building editable for batch-invariant-ops (pyproject.toml) ... \u001b[?25l\u001b[?25hdone\n",
            "✅ Installation complete!\n"
          ]
        }
      ],
      "source": [
        "# Install Triton (required for kernels)\n",
        "!pip install triton -q\n",
        "\n",
        "# Install the library in development mode\n",
        "!pip install -e . -q\n",
        "\n",
        "# Install visualization dependencies\n",
        "!pip install matplotlib seaborn pandas -q\n",
        "\n",
        "print(\"✅ Installation complete!\")"
      ]
    },
    {
      "cell_type": "markdown",
      "metadata": {
        "id": "verify"
      },
      "source": [
        "## 🔍 Environment Validation"
      ]
    },
    {
      "cell_type": "code",
      "execution_count": 5,
      "metadata": {
        "id": "import_test",
        "colab": {
          "base_uri": "https://localhost:8080/"
        },
        "outputId": "ffaba957-8096-412f-da2c-e46915a6c948"
      },
      "outputs": [
        {
          "output_type": "stream",
          "name": "stdout",
          "text": [
            "✅ Library imported successfully! Version: 0.1.0\n"
          ]
        }
      ],
      "source": [
        "# Test imports\n",
        "try:\n",
        "    import batch_invariant_ops\n",
        "    from batch_invariant_ops import (\n",
        "        set_batch_invariant_mode,\n",
        "        is_batch_invariant_mode_enabled,\n",
        "        matmul_persistent,\n",
        "        log_softmax,\n",
        "        mean_dim\n",
        "    )\n",
        "    print(f\"✅ Library imported successfully! Version: {batch_invariant_ops.__version__}\")\n",
        "except ImportError as e:\n",
        "    print(f\"❌ Import failed: {e}\")\n",
        "    sys.exit(1)"
      ]
    },
    {
      "cell_type": "code",
      "execution_count": 6,
      "metadata": {
        "id": "quick_test",
        "colab": {
          "base_uri": "https://localhost:8080/"
        },
        "outputId": "54ec3fd1-fd6c-49b9-9092-8b53cf2ab143"
      },
      "outputs": [
        {
          "output_type": "stream",
          "name": "stdout",
          "text": [
            "📊 Initial batch-invariant mode: False\n",
            "📊 Batch-invariant mode enabled: True\n"
          ]
        },
        {
          "output_type": "stream",
          "name": "stderr",
          "text": [
            "/usr/local/lib/python3.12/dist-packages/torch/library.py:381: UserWarning: Warning only once for all operators,  other operators may also be overridden.\n",
            "  Overriding a previously registered kernel for the same operator and the same dispatch key\n",
            "  operator: aten::mm(Tensor self, Tensor mat2) -> Tensor\n",
            "    registered at /pytorch/build/aten/src/ATen/RegisterSchema.cpp:6\n",
            "  dispatch key: CUDA\n",
            "  previous kernel: registered at /pytorch/aten/src/ATen/LegacyBatchingRegistrations.cpp:1079\n",
            "       new kernel: registered at /dev/null:502 (Triggered internally at /pytorch/aten/src/ATen/core/dispatch/OperatorEntry.cpp:218.)\n",
            "  self.m.impl(\n"
          ]
        },
        {
          "output_type": "stream",
          "name": "stdout",
          "text": [
            "✅ Test matrix multiplication successful! Shape: torch.Size([4, 4])\n",
            "📊 Final batch-invariant mode: False\n",
            "🎉 Environment validation complete!\n"
          ]
        }
      ],
      "source": [
        "# Quick functionality test\n",
        "torch.set_default_device('cuda')\n",
        "\n",
        "# Test batch-invariant mode enablement\n",
        "print(f\"📊 Initial batch-invariant mode: {is_batch_invariant_mode_enabled()}\")\n",
        "\n",
        "with set_batch_invariant_mode(True):\n",
        "    print(f\"📊 Batch-invariant mode enabled: {is_batch_invariant_mode_enabled()}\")\n",
        "\n",
        "    # Quick test with small tensors\n",
        "    a = torch.randn(4, 4)\n",
        "    b = torch.randn(4, 4)\n",
        "    c = torch.mm(a, b)\n",
        "    print(f\"✅ Test matrix multiplication successful! Shape: {c.shape}\")\n",
        "\n",
        "print(f\"📊 Final batch-invariant mode: {is_batch_invariant_mode_enabled()}\")\n",
        "print(\"🎉 Environment validation complete!\")"
      ]
    },
    {
      "cell_type": "markdown",
      "metadata": {
        "id": "demo"
      },
      "source": [
        "## 🎯 Batch Invariance Demo\n",
        "\n",
        "This section demonstrates the core concept: standard PyTorch operations can produce different results depending on batch size due to floating-point precision and execution order, while batch-invariant operations produce identical results."
      ]
    },
    {
      "cell_type": "code",
      "execution_count": 7,
      "metadata": {
        "id": "demo_setup",
        "colab": {
          "base_uri": "https://localhost:8080/"
        },
        "outputId": "f8ce05c3-e869-4461-d1af-500e53ae5b9c"
      },
      "outputs": [
        {
          "output_type": "stream",
          "name": "stdout",
          "text": [
            "🔬 Testing standard PyTorch (may show differences):\n",
            "Batch size    1: Max difference = 1.50e+00 | Identical: False\n",
            "Batch size    8: Max difference = 6.50e+00 | Identical: False\n",
            "Batch size   32: Max difference = 9.88e+00 | Identical: False\n",
            "Batch size  128: Max difference = 0.00e+00 | Identical: True\n",
            "Batch size  512: Max difference = 0.00e+00 | Identical: True\n",
            "Batch size 1024: Max difference = 0.00e+00 | Identical: True\n"
          ]
        }
      ],
      "source": [
        "import matplotlib.pyplot as plt\n",
        "import numpy as np\n",
        "import pandas as pd\n",
        "\n",
        "# Set up the demo data\n",
        "torch.set_default_device('cuda')\n",
        "torch.manual_seed(42)  # For reproducibility\n",
        "\n",
        "def test_batch_invariance_detailed():\n",
        "    \"\"\"Detailed test showing batch variance in standard PyTorch vs invariance with library\"\"\"\n",
        "    B, D = 1024, 2048  # Batch size, feature dimension\n",
        "\n",
        "    # Create test data\n",
        "    a = torch.linspace(-100, 100, B*D, dtype=torch.float32).reshape(B, D)\n",
        "    b = torch.linspace(-50, 50, D*D, dtype=torch.float32).reshape(D, D)\n",
        "\n",
        "    results = []\n",
        "\n",
        "    # Test different batch sizes\n",
        "    test_sizes = [1, 8, 32, 128, 512, 1024]\n",
        "\n",
        "    for batch_size in test_sizes:\n",
        "        if batch_size > B:\n",
        "            continue\n",
        "\n",
        "        # Method 1: Process batch_size rows directly\n",
        "        out1 = torch.mm(a[:batch_size], b)\n",
        "\n",
        "        # Method 2: Process full batch, then slice\n",
        "        out2 = torch.mm(a, b)[:batch_size]\n",
        "\n",
        "        # Calculate difference\n",
        "        diff = (out1 - out2).abs().max().item()\n",
        "\n",
        "        results.append({\n",
        "            'batch_size': batch_size,\n",
        "            'standard_pytorch_diff': diff,\n",
        "            'is_identical': diff == 0.0\n",
        "        })\n",
        "\n",
        "        print(f\"Batch size {batch_size:4d}: Max difference = {diff:.2e} | Identical: {diff == 0.0}\")\n",
        "\n",
        "    return pd.DataFrame(results)\n",
        "\n",
        "print(\"🔬 Testing standard PyTorch (may show differences):\")\n",
        "with set_batch_invariant_mode(False):\n",
        "    standard_results = test_batch_invariance_detailed()"
      ]
    },
    {
      "cell_type": "code",
      "execution_count": 8,
      "metadata": {
        "id": "demo_batch_invariant",
        "colab": {
          "base_uri": "https://localhost:8080/",
          "height": 495
        },
        "outputId": "cca5700b-5f3e-4f98-b329-4f5d8a96ba9a"
      },
      "outputs": [
        {
          "output_type": "stream",
          "name": "stdout",
          "text": [
            "\n",
            "🎯 Testing with batch-invariant operations:\n",
            "Batch size    1: Max difference = 0.00e+00 | Identical: True\n",
            "Batch size    8: Max difference = 0.00e+00 | Identical: True\n",
            "Batch size   32: Max difference = 0.00e+00 | Identical: True\n",
            "Batch size  128: Max difference = 0.00e+00 | Identical: True\n",
            "Batch size  512: Max difference = 0.00e+00 | Identical: True\n",
            "Batch size 1024: Max difference = 0.00e+00 | Identical: True\n",
            "\n",
            "📊 Summary:\n"
          ]
        },
        {
          "output_type": "error",
          "ename": "KeyError",
          "evalue": "\"['standard_pytorch_diff'] not in index\"",
          "traceback": [
            "\u001b[0;31m---------------------------------------------------------------------------\u001b[0m",
            "\u001b[0;31mKeyError\u001b[0m                                  Traceback (most recent call last)",
            "\u001b[0;32m/tmp/ipython-input-2162274762.py\u001b[0m in \u001b[0;36m<cell line: 0>\u001b[0;34m()\u001b[0m\n\u001b[1;32m      6\u001b[0m \u001b[0mcombined\u001b[0m \u001b[0;34m=\u001b[0m \u001b[0mpd\u001b[0m\u001b[0;34m.\u001b[0m\u001b[0mmerge\u001b[0m\u001b[0;34m(\u001b[0m\u001b[0mstandard_results\u001b[0m\u001b[0;34m,\u001b[0m \u001b[0minvariant_results\u001b[0m\u001b[0;34m,\u001b[0m \u001b[0mon\u001b[0m\u001b[0;34m=\u001b[0m\u001b[0;34m'batch_size'\u001b[0m\u001b[0;34m,\u001b[0m \u001b[0msuffixes\u001b[0m\u001b[0;34m=\u001b[0m\u001b[0;34m(\u001b[0m\u001b[0;34m'_standard'\u001b[0m\u001b[0;34m,\u001b[0m \u001b[0;34m'_invariant'\u001b[0m\u001b[0;34m)\u001b[0m\u001b[0;34m)\u001b[0m\u001b[0;34m\u001b[0m\u001b[0;34m\u001b[0m\u001b[0m\n\u001b[1;32m      7\u001b[0m \u001b[0mprint\u001b[0m\u001b[0;34m(\u001b[0m\u001b[0;34m\"\\n📊 Summary:\"\u001b[0m\u001b[0;34m)\u001b[0m\u001b[0;34m\u001b[0m\u001b[0;34m\u001b[0m\u001b[0m\n\u001b[0;32m----> 8\u001b[0;31m \u001b[0mprint\u001b[0m\u001b[0;34m(\u001b[0m\u001b[0mcombined\u001b[0m\u001b[0;34m[\u001b[0m\u001b[0;34m[\u001b[0m\u001b[0;34m'batch_size'\u001b[0m\u001b[0;34m,\u001b[0m \u001b[0;34m'standard_pytorch_diff'\u001b[0m\u001b[0;34m,\u001b[0m \u001b[0;34m'is_identical_standard'\u001b[0m\u001b[0;34m,\u001b[0m \u001b[0;34m'is_identical_invariant'\u001b[0m\u001b[0;34m]\u001b[0m\u001b[0;34m]\u001b[0m\u001b[0;34m)\u001b[0m\u001b[0;34m\u001b[0m\u001b[0;34m\u001b[0m\u001b[0m\n\u001b[0m",
            "\u001b[0;32m/usr/local/lib/python3.12/dist-packages/pandas/core/frame.py\u001b[0m in \u001b[0;36m__getitem__\u001b[0;34m(self, key)\u001b[0m\n\u001b[1;32m   4106\u001b[0m             \u001b[0;32mif\u001b[0m \u001b[0mis_iterator\u001b[0m\u001b[0;34m(\u001b[0m\u001b[0mkey\u001b[0m\u001b[0;34m)\u001b[0m\u001b[0;34m:\u001b[0m\u001b[0;34m\u001b[0m\u001b[0;34m\u001b[0m\u001b[0m\n\u001b[1;32m   4107\u001b[0m                 \u001b[0mkey\u001b[0m \u001b[0;34m=\u001b[0m \u001b[0mlist\u001b[0m\u001b[0;34m(\u001b[0m\u001b[0mkey\u001b[0m\u001b[0;34m)\u001b[0m\u001b[0;34m\u001b[0m\u001b[0;34m\u001b[0m\u001b[0m\n\u001b[0;32m-> 4108\u001b[0;31m             \u001b[0mindexer\u001b[0m \u001b[0;34m=\u001b[0m \u001b[0mself\u001b[0m\u001b[0;34m.\u001b[0m\u001b[0mcolumns\u001b[0m\u001b[0;34m.\u001b[0m\u001b[0m_get_indexer_strict\u001b[0m\u001b[0;34m(\u001b[0m\u001b[0mkey\u001b[0m\u001b[0;34m,\u001b[0m \u001b[0;34m\"columns\"\u001b[0m\u001b[0;34m)\u001b[0m\u001b[0;34m[\u001b[0m\u001b[0;36m1\u001b[0m\u001b[0;34m]\u001b[0m\u001b[0;34m\u001b[0m\u001b[0;34m\u001b[0m\u001b[0m\n\u001b[0m\u001b[1;32m   4109\u001b[0m \u001b[0;34m\u001b[0m\u001b[0m\n\u001b[1;32m   4110\u001b[0m         \u001b[0;31m# take() does not accept boolean indexers\u001b[0m\u001b[0;34m\u001b[0m\u001b[0;34m\u001b[0m\u001b[0m\n",
            "\u001b[0;32m/usr/local/lib/python3.12/dist-packages/pandas/core/indexes/base.py\u001b[0m in \u001b[0;36m_get_indexer_strict\u001b[0;34m(self, key, axis_name)\u001b[0m\n\u001b[1;32m   6198\u001b[0m             \u001b[0mkeyarr\u001b[0m\u001b[0;34m,\u001b[0m \u001b[0mindexer\u001b[0m\u001b[0;34m,\u001b[0m \u001b[0mnew_indexer\u001b[0m \u001b[0;34m=\u001b[0m \u001b[0mself\u001b[0m\u001b[0;34m.\u001b[0m\u001b[0m_reindex_non_unique\u001b[0m\u001b[0;34m(\u001b[0m\u001b[0mkeyarr\u001b[0m\u001b[0;34m)\u001b[0m\u001b[0;34m\u001b[0m\u001b[0;34m\u001b[0m\u001b[0m\n\u001b[1;32m   6199\u001b[0m \u001b[0;34m\u001b[0m\u001b[0m\n\u001b[0;32m-> 6200\u001b[0;31m         \u001b[0mself\u001b[0m\u001b[0;34m.\u001b[0m\u001b[0m_raise_if_missing\u001b[0m\u001b[0;34m(\u001b[0m\u001b[0mkeyarr\u001b[0m\u001b[0;34m,\u001b[0m \u001b[0mindexer\u001b[0m\u001b[0;34m,\u001b[0m \u001b[0maxis_name\u001b[0m\u001b[0;34m)\u001b[0m\u001b[0;34m\u001b[0m\u001b[0;34m\u001b[0m\u001b[0m\n\u001b[0m\u001b[1;32m   6201\u001b[0m \u001b[0;34m\u001b[0m\u001b[0m\n\u001b[1;32m   6202\u001b[0m         \u001b[0mkeyarr\u001b[0m \u001b[0;34m=\u001b[0m \u001b[0mself\u001b[0m\u001b[0;34m.\u001b[0m\u001b[0mtake\u001b[0m\u001b[0;34m(\u001b[0m\u001b[0mindexer\u001b[0m\u001b[0;34m)\u001b[0m\u001b[0;34m\u001b[0m\u001b[0;34m\u001b[0m\u001b[0m\n",
            "\u001b[0;32m/usr/local/lib/python3.12/dist-packages/pandas/core/indexes/base.py\u001b[0m in \u001b[0;36m_raise_if_missing\u001b[0;34m(self, key, indexer, axis_name)\u001b[0m\n\u001b[1;32m   6250\u001b[0m \u001b[0;34m\u001b[0m\u001b[0m\n\u001b[1;32m   6251\u001b[0m             \u001b[0mnot_found\u001b[0m \u001b[0;34m=\u001b[0m \u001b[0mlist\u001b[0m\u001b[0;34m(\u001b[0m\u001b[0mensure_index\u001b[0m\u001b[0;34m(\u001b[0m\u001b[0mkey\u001b[0m\u001b[0;34m)\u001b[0m\u001b[0;34m[\u001b[0m\u001b[0mmissing_mask\u001b[0m\u001b[0;34m.\u001b[0m\u001b[0mnonzero\u001b[0m\u001b[0;34m(\u001b[0m\u001b[0;34m)\u001b[0m\u001b[0;34m[\u001b[0m\u001b[0;36m0\u001b[0m\u001b[0;34m]\u001b[0m\u001b[0;34m]\u001b[0m\u001b[0;34m.\u001b[0m\u001b[0munique\u001b[0m\u001b[0;34m(\u001b[0m\u001b[0;34m)\u001b[0m\u001b[0;34m)\u001b[0m\u001b[0;34m\u001b[0m\u001b[0;34m\u001b[0m\u001b[0m\n\u001b[0;32m-> 6252\u001b[0;31m             \u001b[0;32mraise\u001b[0m \u001b[0mKeyError\u001b[0m\u001b[0;34m(\u001b[0m\u001b[0;34mf\"{not_found} not in index\"\u001b[0m\u001b[0;34m)\u001b[0m\u001b[0;34m\u001b[0m\u001b[0;34m\u001b[0m\u001b[0m\n\u001b[0m\u001b[1;32m   6253\u001b[0m \u001b[0;34m\u001b[0m\u001b[0m\n\u001b[1;32m   6254\u001b[0m     \u001b[0;34m@\u001b[0m\u001b[0moverload\u001b[0m\u001b[0;34m\u001b[0m\u001b[0;34m\u001b[0m\u001b[0m\n",
            "\u001b[0;31mKeyError\u001b[0m: \"['standard_pytorch_diff'] not in index\""
          ]
        }
      ],
      "source": [
        "print(\"\\n🎯 Testing with batch-invariant operations:\")\n",
        "with set_batch_invariant_mode(True):\n",
        "    invariant_results = test_batch_invariance_detailed()\n",
        "\n",
        "# Combine results for comparison\n",
        "combined = pd.merge(standard_results, invariant_results, on='batch_size', suffixes=('_standard', '_invariant'))\n",
        "print(\"\\n📊 Summary:\")\n",
        "print(combined[['batch_size', 'standard_pytorch_diff', 'is_identical_standard', 'is_identical_invariant']])"
      ]
    },
    {
      "cell_type": "code",
      "execution_count": 9,
      "metadata": {
        "id": "visualization",
        "colab": {
          "base_uri": "https://localhost:8080/",
          "height": 559
        },
        "outputId": "7b209111-ddcd-4447-ad73-62784e504ea6"
      },
      "outputs": [
        {
          "output_type": "display_data",
          "data": {
            "text/plain": [
              "<Figure size 1500x500 with 2 Axes>"
            ],
            "image/png": "[encoded data removed]"
          },
          "metadata": {}
        },
        {
          "output_type": "stream",
          "name": "stdout",
          "text": [
            "\n",
            "✅ Results: Batch-invariant operations are consistent across 6/6 batch sizes\n",
            "❌ Standard PyTorch is consistent across 3/6 batch sizes\n"
          ]
        }
      ],
      "source": [
        "# Visualize the results\n",
        "fig, (ax1, ax2) = plt.subplots(1, 2, figsize=(15, 5))\n",
        "\n",
        "# Plot 1: Differences in standard PyTorch\n",
        "ax1.semilogy(combined['batch_size'], combined['standard_pytorch_diff_standard'] + 1e-20, 'o-', color='red', linewidth=2, markersize=8)\n",
        "ax1.set_xlabel('Batch Size')\n",
        "ax1.set_ylabel('Max Difference (log scale)')\n",
        "ax1.set_title('Standard PyTorch: Batch Size Effects')\n",
        "ax1.grid(True, alpha=0.3)\n",
        "ax1.set_ylim(1e-20, 1e-5)\n",
        "\n",
        "# Plot 2: Consistency comparison\n",
        "consistency_data = {\n",
        "    'Standard PyTorch': combined['is_identical_standard'].sum(),\n",
        "    'Batch-Invariant Ops': combined['is_identical_invariant'].sum()\n",
        "}\n",
        "bars = ax2.bar(consistency_data.keys(), consistency_data.values(), color=['red', 'green'], alpha=0.7)\n",
        "ax2.set_ylabel('Number of Identical Results')\n",
        "ax2.set_title('Consistency Across Batch Sizes')\n",
        "ax2.set_ylim(0, len(combined))\n",
        "\n",
        "# Add value labels on bars\n",
        "for bar, value in zip(bars, consistency_data.values()):\n",
        "    ax2.text(bar.get_x() + bar.get_width()/2, bar.get_height() + 0.1,\n",
        "             f'{value}/{len(combined)}', ha='center', va='bottom', fontweight='bold')\n",
        "\n",
        "plt.tight_layout()\n",
        "plt.show()\n",
        "\n",
        "print(f\"\\n✅ Results: Batch-invariant operations are consistent across {invariant_results['is_identical'].sum()}/{len(invariant_results)} batch sizes\")\n",
        "print(f\"❌ Standard PyTorch is consistent across {standard_results['is_identical'].sum()}/{len(standard_results)} batch sizes\")"
      ]
    },
    {
      "cell_type": "markdown",
      "metadata": {
        "id": "comprehensive_test"
      },
      "source": [
        "## 🧪 Comprehensive Testing\n",
        "\n",
        "Run the full test suite included with the library."
      ]
    },
    {
      "cell_type": "code",
      "execution_count": 10,
      "metadata": {
        "id": "run_tests",
        "colab": {
          "base_uri": "https://localhost:8080/"
        },
        "outputId": "f5127182-80c8-4f37-e4c2-ea29d50ac57d"
      },
      "outputs": [
        {
          "output_type": "stream",
          "name": "stdout",
          "text": [
            "🧪 Running official test suite...\n",
            "/usr/local/lib/python3.12/dist-packages/torch/library.py:381: UserWarning: Warning only once for all operators,  other operators may also be overridden.\n",
            "  Overriding a previously registered kernel for the same operator and the same dispatch key\n",
            "  operator: aten::mm(Tensor self, Tensor mat2) -> Tensor\n",
            "    registered at /pytorch/build/aten/src/ATen/RegisterSchema.cpp:6\n",
            "  dispatch key: CUDA\n",
            "  previous kernel: registered at /pytorch/aten/src/ATen/LegacyBatchingRegistrations.cpp:1079\n",
            "       new kernel: registered at /dev/null:502 (Triggered internally at /pytorch/aten/src/ATen/core/dispatch/OperatorEntry.cpp:218.)\n",
            "  self.m.impl(\n",
            "Standard PyTorch:\n",
            "Difference: 9.5\n",
            "Deterministic: False\n",
            "\n",
            "Batch-Invariant Mode:\n",
            "Difference: 0.0\n",
            "Deterministic: True\n"
          ]
        }
      ],
      "source": [
        "# Run the official test suite\n",
        "print(\"🧪 Running official test suite...\")\n",
        "!python test_batch_invariance.py"
      ]
    },
    {
      "cell_type": "markdown",
      "metadata": {
        "id": "operations_demo"
      },
      "source": [
        "## ⚙️ Supported Operations Demo\n",
        "\n",
        "Test each supported operation individually."
      ]
    },
    {
      "cell_type": "code",
      "execution_count": 11,
      "metadata": {
        "id": "test_matmul",
        "colab": {
          "base_uri": "https://localhost:8080/"
        },
        "outputId": "89a120d0-97d6-4010-b7af-16526b593454"
      },
      "outputs": [
        {
          "output_type": "stream",
          "name": "stdout",
          "text": [
            "🧮 Testing Matrix Operations:\n",
            "  torch.mm: difference = 2.93e-02\n",
            "  torch.addmm: difference = 3.03e-02\n"
          ]
        },
        {
          "output_type": "execute_result",
          "data": {
            "text/plain": [
              "(tensor([[-28.4288, -18.2971, -42.6103,  ..., -11.2417,  25.8776, -13.0805],\n",
              "         [-16.2567,   8.9566,   1.1001,  ...,  17.4835,   4.5626,  19.8079],\n",
              "         [ -8.4889,  17.4780,  13.9137,  ...,  -2.9258,  -0.7375,  -3.1634],\n",
              "         ...,\n",
              "         [ 15.4713,  12.6839,  21.5658,  ...,  -6.9378,   5.3546,   8.8121],\n",
              "         [  6.2029,   8.0792,  10.7701,  ...,  15.3468, -16.3824,   0.6309],\n",
              "         [ 13.0048,  -1.5081, -23.7825,  ..., -18.0904,   6.7016,  -4.3268]],\n",
              "        device='cuda:0'),\n",
              " tensor([[-28.4219, -18.2969, -42.6250,  ..., -11.2422,  25.8750, -13.0781],\n",
              "         [-16.2500,   8.9531,   1.1006,  ...,  17.4844,   4.5625,  19.8125],\n",
              "         [ -8.4922,  17.4844,  13.9141,  ...,  -2.9258,  -0.7373,  -3.1641],\n",
              "         ...,\n",
              "         [ 15.4688,  12.6875,  21.5625,  ...,  -6.9375,   5.3555,   8.8125],\n",
              "         [  6.2031,   8.0781,  10.7734,  ...,  15.3438, -16.3750,   0.6309],\n",
              "         [ 13.0078,  -1.5078, -23.7812,  ..., -18.0938,   6.7031,  -4.3281]],\n",
              "        device='cuda:0'),\n",
              " 0.0302734375)"
            ]
          },
          "metadata": {},
          "execution_count": 11
        }
      ],
      "source": [
        "# Test matrix multiplication (mm and addmm)\n",
        "print(\"🧮 Testing Matrix Operations:\")\n",
        "\n",
        "def test_operation(op_name, operation, *args):\n",
        "    \"\"\"Test an operation with and without batch-invariant mode\"\"\"\n",
        "    torch.manual_seed(42)\n",
        "\n",
        "    # Standard PyTorch\n",
        "    with set_batch_invariant_mode(False):\n",
        "        result_std = operation(*args)\n",
        "\n",
        "    # Batch-invariant mode\n",
        "    with set_batch_invariant_mode(True):\n",
        "        result_inv = operation(*args)\n",
        "\n",
        "    # Check if results are similar (they should be for single operations)\n",
        "    diff = (result_std - result_inv).abs().max().item()\n",
        "    print(f\"  {op_name}: difference = {diff:.2e}\")\n",
        "    return result_std, result_inv, diff\n",
        "\n",
        "# Matrix multiplication\n",
        "a = torch.randn(128, 256, device='cuda')\n",
        "b = torch.randn(256, 512, device='cuda')\n",
        "test_operation(\"torch.mm\", torch.mm, a, b)\n",
        "\n",
        "# Matrix multiplication with bias\n",
        "bias = torch.randn(512, device='cuda')\n",
        "test_operation(\"torch.addmm\", torch.addmm, bias, a, b)"
      ]
    },
    {
      "cell_type": "code",
      "execution_count": 12,
      "metadata": {
        "id": "test_log_softmax",
        "colab": {
          "base_uri": "https://localhost:8080/"
        },
        "outputId": "8dfdcdd2-40a6-4447-f035-2886aeb977ea"
      },
      "outputs": [
        {
          "output_type": "stream",
          "name": "stdout",
          "text": [
            "\n",
            "📊 Testing Log Softmax:\n",
            "  torch.log_softmax: difference = 9.54e-07\n"
          ]
        },
        {
          "output_type": "execute_result",
          "data": {
            "text/plain": [
              "(tensor([[-7.2560, -5.2886, -7.6220,  ..., -8.4453, -7.9239, -7.2322],\n",
              "         [-7.6598, -8.9384, -6.3769,  ..., -6.7819, -7.4425, -6.8493],\n",
              "         [-6.1803, -7.2260, -5.7450,  ..., -7.2435, -9.7810, -6.3283],\n",
              "         ...,\n",
              "         [-6.7528, -7.7725, -7.0570,  ..., -6.3060, -7.7973, -8.5257],\n",
              "         [-7.3394, -7.5416, -6.0936,  ..., -6.2300, -7.9996, -7.0926],\n",
              "         [-5.3961, -8.6375, -7.6148,  ..., -5.7333, -6.1245, -8.3294]],\n",
              "        device='cuda:0'),\n",
              " tensor([[-7.2560, -5.2886, -7.6220,  ..., -8.4453, -7.9239, -7.2322],\n",
              "         [-7.6597, -8.9384, -6.3769,  ..., -6.7819, -7.4425, -6.8493],\n",
              "         [-6.1803, -7.2260, -5.7450,  ..., -7.2435, -9.7810, -6.3283],\n",
              "         ...,\n",
              "         [-6.7528, -7.7725, -7.0570,  ..., -6.3060, -7.7973, -8.5257],\n",
              "         [-7.3394, -7.5416, -6.0936,  ..., -6.2300, -7.9996, -7.0926],\n",
              "         [-5.3961, -8.6375, -7.6148,  ..., -5.7333, -6.1245, -8.3294]],\n",
              "        device='cuda:0'),\n",
              " 9.5367431640625e-07)"
            ]
          },
          "metadata": {},
          "execution_count": 12
        }
      ],
      "source": [
        "# Test log softmax\n",
        "print(\"\\n📊 Testing Log Softmax:\")\n",
        "x = torch.randn(64, 1000, device='cuda')\n",
        "test_operation(\"torch.log_softmax\", torch.log_softmax, x, -1)"
      ]
    },
    {
      "cell_type": "code",
      "execution_count": 13,
      "metadata": {
        "id": "test_mean",
        "colab": {
          "base_uri": "https://localhost:8080/"
        },
        "outputId": "ecfa3a7e-144e-4f08-90da-a681a6a31527"
      },
      "outputs": [
        {
          "output_type": "stream",
          "name": "stdout",
          "text": [
            "\n",
            "📈 Testing Mean Operations:\n",
            "  torch.mean(dim=1): difference = 5.96e-08\n",
            "  torch.mean(dim=[1,2]): difference = 0.00e+00\n"
          ]
        },
        {
          "output_type": "execute_result",
          "data": {
            "text/plain": [
              "(tensor([ 2.5599e-03,  3.6577e-03, -1.3435e-02, -1.3787e-02, -1.0084e-02,\n",
              "         -7.5064e-03, -2.2581e-02,  6.7832e-03,  1.2670e-02,  8.6979e-03,\n",
              "         -8.9086e-04, -1.2414e-03, -1.9721e-02, -8.6715e-04, -6.8460e-03,\n",
              "         -1.1623e-02,  1.3720e-03, -7.8013e-03, -6.0577e-03, -5.3098e-03,\n",
              "         -4.7759e-05, -7.6862e-05,  8.0140e-05,  7.4611e-03,  8.4780e-03,\n",
              "          1.5129e-03, -6.7148e-03, -5.3909e-04,  1.4081e-02, -1.1862e-03,\n",
              "          1.0851e-03,  1.0820e-02], device='cuda:0'),\n",
              " tensor([ 2.5599e-03,  3.6577e-03, -1.3435e-02, -1.3787e-02, -1.0084e-02,\n",
              "         -7.5064e-03, -2.2581e-02,  6.7832e-03,  1.2670e-02,  8.6979e-03,\n",
              "         -8.9086e-04, -1.2414e-03, -1.9721e-02, -8.6715e-04, -6.8460e-03,\n",
              "         -1.1623e-02,  1.3720e-03, -7.8013e-03, -6.0577e-03, -5.3098e-03,\n",
              "         -4.7759e-05, -7.6862e-05,  8.0140e-05,  7.4611e-03,  8.4780e-03,\n",
              "          1.5129e-03, -6.7148e-03, -5.3909e-04,  1.4081e-02, -1.1862e-03,\n",
              "          1.0851e-03,  1.0820e-02], device='cuda:0'),\n",
              " 0.0)"
            ]
          },
          "metadata": {},
          "execution_count": 13
        }
      ],
      "source": [
        "# Test mean operations\n",
        "print(\"\\n📈 Testing Mean Operations:\")\n",
        "x = torch.randn(32, 64, 128, device='cuda')\n",
        "\n",
        "# Mean along single dimension\n",
        "test_operation(\"torch.mean(dim=1)\", torch.mean, x, 1)\n",
        "\n",
        "# Mean along multiple dimensions\n",
        "test_operation(\"torch.mean(dim=[1,2])\", torch.mean, x, [1, 2])"
      ]
    },
    {
      "cell_type": "markdown",
      "metadata": {
        "id": "benchmark"
      },
      "source": [
        "## 🏎️ Performance Benchmarking"
      ]
    },
    {
      "cell_type": "code",
      "execution_count": 14,
      "metadata": {
        "id": "benchmark_code",
        "colab": {
          "base_uri": "https://localhost:8080/"
        },
        "outputId": "d7d7a3c8-561a-4975-c5c0-aa0d7b3f05b1"
      },
      "outputs": [
        {
          "output_type": "stream",
          "name": "stdout",
          "text": [
            "🏎️ Performance Benchmarks:\n",
            "==========================\n",
            "\n",
            "Large Matrix Multiplication (2048x4096 @ 4096x2048):\n",
            "  Standard PyTorch: 8.891 ms\n",
            "  Batch-Invariant:  8.033 ms\n",
            "  Speedup: 1.11x\n",
            "\n",
            "Log Softmax (1024x32000):\n",
            "  Standard PyTorch: 2.089 ms\n",
            "  Batch-Invariant:  2.119 ms\n",
            "  Speedup: 0.99x\n",
            "\n",
            "Mean (256x512x1024, dim=1):\n",
            "  Standard PyTorch: 2.013 ms\n",
            "  Batch-Invariant:  7.677 ms\n",
            "  Speedup: 0.26x\n",
            "\n"
          ]
        },
        {
          "output_type": "execute_result",
          "data": {
            "text/plain": [
              "(2.0127010345458984, 7.677221298217773, 0.26216530126767823)"
            ]
          },
          "metadata": {},
          "execution_count": 14
        }
      ],
      "source": [
        "import time\n",
        "\n",
        "def benchmark_operation(name, operation, *args, warmup=5, iterations=50):\n",
        "    \"\"\"Benchmark an operation with both modes\"\"\"\n",
        "\n",
        "    def time_operation(mode_enabled):\n",
        "        with set_batch_invariant_mode(mode_enabled):\n",
        "            # Warmup\n",
        "            for _ in range(warmup):\n",
        "                _ = operation(*args)\n",
        "            torch.cuda.synchronize()\n",
        "\n",
        "            # Timing\n",
        "            start = time.time()\n",
        "            for _ in range(iterations):\n",
        "                _ = operation(*args)\n",
        "            torch.cuda.synchronize()\n",
        "            end = time.time()\n",
        "\n",
        "            return (end - start) / iterations * 1000  # ms per operation\n",
        "\n",
        "    time_standard = time_operation(False)\n",
        "    time_invariant = time_operation(True)\n",
        "\n",
        "    speedup = time_standard / time_invariant\n",
        "\n",
        "    print(f\"{name}:\")\n",
        "    print(f\"  Standard PyTorch: {time_standard:.3f} ms\")\n",
        "    print(f\"  Batch-Invariant:  {time_invariant:.3f} ms\")\n",
        "    print(f\"  Speedup: {speedup:.2f}x\\n\")\n",
        "\n",
        "    return time_standard, time_invariant, speedup\n",
        "\n",
        "print(\"🏎️ Performance Benchmarks:\")\n",
        "print(\"==========================\\n\")\n",
        "\n",
        "# Large matrix multiplication\n",
        "a_large = torch.randn(2048, 4096, device='cuda')\n",
        "b_large = torch.randn(4096, 2048, device='cuda')\n",
        "benchmark_operation(\"Large Matrix Multiplication (2048x4096 @ 4096x2048)\", torch.mm, a_large, b_large)\n",
        "\n",
        "# Log softmax\n",
        "x_large = torch.randn(1024, 32000, device='cuda')\n",
        "benchmark_operation(\"Log Softmax (1024x32000)\", torch.log_softmax, x_large, -1)\n",
        "\n",
        "# Mean operation\n",
        "x_mean = torch.randn(256, 512, 1024, device='cuda')\n",
        "benchmark_operation(\"Mean (256x512x1024, dim=1)\", torch.mean, x_mean, 1)"
      ]
    },
    {
      "cell_type": "markdown",
      "metadata": {
        "id": "memory"
      },
      "source": [
        "## 💾 Memory Usage Analysis"
      ]
    },
    {
      "cell_type": "code",
      "execution_count": 16,
      "metadata": {
        "id": "memory_analysis",
        "colab": {
          "base_uri": "https://localhost:8080/"
        },
        "outputId": "1045aba6-4761-469e-d0ef-0d81bf2c85eb"
      },
      "outputs": [
        {
          "output_type": "stream",
          "name": "stdout",
          "text": [
            "💾 Memory Usage Comparison:\n",
            "===========================\n",
            "\n",
            "Medium MatMul (1024x2048 @ 2048x1024):\n",
            "  Standard PyTorch: 0.746 GB\n",
            "  Batch-Invariant:  0.746 GB\n",
            "  Difference: +0.000 GB\n",
            "\n",
            "Large LogSoftmax (512x16000):\n",
            "  Standard PyTorch: 0.773 GB\n",
            "  Batch-Invariant:  0.773 GB\n",
            "  Difference: +0.000 GB\n",
            "\n"
          ]
        }
      ],
      "source": [
        "def measure_memory_usage(operation, *args, mode_enabled=True):\n",
        "    \"\"\"Measure peak GPU memory usage during operation\"\"\"\n",
        "    torch.cuda.empty_cache()\n",
        "    torch.cuda.reset_peak_memory_stats()\n",
        "\n",
        "    with set_batch_invariant_mode(mode_enabled):\n",
        "        result = operation(*args)\n",
        "        torch.cuda.synchronize()\n",
        "\n",
        "    peak_memory = torch.cuda.max_memory_allocated() / 1024**3  # GB\n",
        "    return peak_memory\n",
        "\n",
        "print(\"💾 Memory Usage Comparison:\")\n",
        "print(\"===========================\\n\")\n",
        "\n",
        "# Test with different sized operations\n",
        "test_cases = [\n",
        "    (\"Medium MatMul (1024x2048 @ 2048x1024)\", torch.mm, torch.randn(1024, 2048, device='cuda'), torch.randn(2048, 1024, device='cuda')),\n",
        "    (\"Large LogSoftmax (512x16000)\", torch.log_softmax, torch.randn(512, 16000, device='cuda'), -1),\n",
        "]\n",
        "\n",
        "for name, op, *args in test_cases:\n",
        "    mem_standard = measure_memory_usage(op, *args, mode_enabled=False)\n",
        "    mem_invariant = measure_memory_usage(op, *args, mode_enabled=True)\n",
        "\n",
        "    print(f\"{name}:\")\n",
        "    print(f\"  Standard PyTorch: {mem_standard:.3f} GB\")\n",
        "    print(f\"  Batch-Invariant:  {mem_invariant:.3f} GB\")\n",
        "    print(f\"  Difference: {mem_invariant - mem_standard:+.3f} GB\\n\")"
      ]
    },
    {
      "cell_type": "markdown",
      "metadata": {
        "id": "export"
      },
      "source": [
        "## 📁 Export Results"
      ]
    },
    {
      "cell_type": "code",
      "execution_count": 17,
      "metadata": {
        "id": "export_results",
        "colab": {
          "base_uri": "https://localhost:8080/"
        },
        "outputId": "b24a19f9-e56d-4df5-c37a-fbd333ba0b6b"
      },
      "outputs": [
        {
          "output_type": "stream",
          "name": "stdout",
          "text": [
            "📁 Results exported:\n",
            "  - colab_test_report.json (summary)\n",
            "  - batch_invariance_detailed_results.csv (detailed data)\n",
            "\n",
            "📋 Summary:\n",
            "{\n",
            "  \"system_info\": {\n",
            "    \"timestamp\": \"2025-09-21T23:25:36.425822\",\n",
            "    \"gpu_name\": \"Tesla T4\",\n",
            "    \"gpu_memory_gb\": 15.828320256,\n",
            "    \"pytorch_version\": \"2.8.0+cu126\",\n",
            "    \"cuda_version\": \"12.6\",\n",
            "    \"library_version\": \"0.1.0\",\n",
            "    \"platform\": \"Google Colab\"\n",
            "  },\n",
            "  \"test_summary\": {\n",
            "    \"batch_invariance_test\": {\n",
            "      \"standard_pytorch_consistent_results\": 3,\n",
            "      \"batch_invariant_consistent_results\": 6,\n",
            "      \"total_test_cases\": 6\n",
            "    }\n",
            "  }\n",
            "}\n"
          ]
        }
      ],
      "source": [
        "# Create a summary report\n",
        "import json\n",
        "from datetime import datetime\n",
        "\n",
        "# System information\n",
        "system_info = {\n",
        "    'timestamp': datetime.now().isoformat(),\n",
        "    'gpu_name': torch.cuda.get_device_name(0),\n",
        "    'gpu_memory_gb': torch.cuda.get_device_properties(0).total_memory / 1e9,\n",
        "    'pytorch_version': torch.__version__,\n",
        "    'cuda_version': torch.version.cuda,\n",
        "    'library_version': batch_invariant_ops.__version__,\n",
        "    'platform': 'Google Colab'\n",
        "}\n",
        "\n",
        "# Test results summary\n",
        "test_summary = {\n",
        "    'batch_invariance_test': {\n",
        "        'standard_pytorch_consistent_results': int(standard_results['is_identical'].sum()),\n",
        "        'batch_invariant_consistent_results': int(invariant_results['is_identical'].sum()),\n",
        "        'total_test_cases': len(standard_results)\n",
        "    }\n",
        "}\n",
        "\n",
        "report = {\n",
        "    'system_info': system_info,\n",
        "    'test_summary': test_summary\n",
        "}\n",
        "\n",
        "# Save to file\n",
        "with open('colab_test_report.json', 'w') as f:\n",
        "    json.dump(report, f, indent=2)\n",
        "\n",
        "# Save detailed results as CSV\n",
        "combined.to_csv('batch_invariance_detailed_results.csv', index=False)\n",
        "\n",
        "print(\"📁 Results exported:\")\n",
        "print(\"  - colab_test_report.json (summary)\")\n",
        "print(\"  - batch_invariance_detailed_results.csv (detailed data)\")\n",
        "print(\"\\n📋 Summary:\")\n",
        "print(json.dumps(report, indent=2))"
      ]
    },
    {
      "cell_type": "markdown",
      "metadata": {
        "id": "next_steps"
      },
      "source": [
        "## 🚀 Next Steps\n",
        "\n",
        "Congratulations! You've successfully tested the batch-invariant-ops library. Here are some next steps:\n",
        "\n",
        "### 🔧 **Integration into Your Projects**\n",
        "```python\n",
        "from batch_invariant_ops import set_batch_invariant_mode\n",
        "\n",
        "# Enable for deterministic inference\n",
        "with set_batch_invariant_mode(True):\n",
        "    model_output = your_model(input_data)\n",
        "```\n",
        "\n",
        "### 📚 **Learn More**\n",
        "- Read the full documentation in the repository\n",
        "- Check out `deterministic_vllm_inference.py` for vLLM integration\n",
        "- Explore the source code in `batch_invariant_ops/batch_invariant_ops.py`\n",
        "\n",
        "### 🎯 **When You Need More Resources**\n",
        "- **Longer experiments**: Consider [Paperspace Gradient](https://gradient.paperspace.com) or [Lambda Labs](https://lambdalabs.com)\n",
        "- **Cost optimization**: Try [Vast.ai](https://vast.ai) for cheaper GPU rentals\n",
        "- **Production deployment**: Use cloud providers like AWS, GCP, or Azure\n",
        "\n",
        "### 💡 **Contribute**\n",
        "- Report issues on the GitHub repository\n",
        "- Share your use cases and benchmarks\n",
        "- Contribute improvements or new operations\n",
        "\n",
        "---\n",
        "\n",
        "**Happy deterministic computing! 🎉**"
      ]
    }
  ],
  "metadata": {
    "colab": {
      "provenance": [],
      "gpuType": "T4",
      "include_colab_link": true
    },
    "kernelspec": {
      "display_name": "Python 3",
      "name": "python3"
    },
    "language_info": {
      "name": "python"
    },
    "accelerator": "GPU"
  },
  "nbformat": 4,
  "nbformat_minor": 0
}